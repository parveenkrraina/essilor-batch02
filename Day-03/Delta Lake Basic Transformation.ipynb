{
 "cells": [
  {
   "cell_type": "code",
   "execution_count": 0,
   "metadata": {
    "application/vnd.databricks.v1+cell": {
     "cellMetadata": {
      "byteLimit": 2048000,
      "rowLimit": 10000
     },
     "inputWidgets": {},
     "nuid": "10fe3bc3-6a5b-4436-9dc1-89d7622658ea",
     "showTitle": false,
     "tableResultSettingsMap": {},
     "title": ""
    }
   },
   "outputs": [],
   "source": [
    "# Load the managed Delta table\n",
    "sales_df = spark.table(\"sales_delta_managed\")\n",
    "print(\"Original sales data sample:\")\n",
    "display(sales_df)"
   ]
  },
  {
   "cell_type": "code",
   "execution_count": 0,
   "metadata": {
    "application/vnd.databricks.v1+cell": {
     "cellMetadata": {
      "byteLimit": 2048000,
      "rowLimit": 10000
     },
     "inputWidgets": {},
     "nuid": "748d4355-3250-4f53-a7d8-8f37ebe7b334",
     "showTitle": false,
     "tableResultSettingsMap": {},
     "title": ""
    }
   },
   "outputs": [],
   "source": [
    "# 1. Select relevant columns: CustomerName, Item, Quantity, UnitPrice\n",
    "selected_df = sales_df.select(\"CustomerName\", \"Item\", \"Quantity\", \"UnitPrice\")\n",
    "print(\"Selected columns:\")\n",
    "display(selected_df)"
   ]
  },
  {
   "cell_type": "code",
   "execution_count": 0,
   "metadata": {
    "application/vnd.databricks.v1+cell": {
     "cellMetadata": {
      "byteLimit": 2048000,
      "rowLimit": 10000
     },
     "inputWidgets": {},
     "nuid": "9001d90d-e03f-43db-90e9-c07479792a31",
     "showTitle": false,
     "tableResultSettingsMap": {},
     "title": ""
    }
   },
   "outputs": [],
   "source": [
    "# 2. Filter: Only rows where Quantity > 5\n",
    "from pyspark.sql.functions import col\n",
    "\n",
    "filtered_df = selected_df.filter(col(\"Quantity\") > 5)\n",
    "print(\"Filtered rows (Quantity > 5):\")\n",
    "display(filtered_df)"
   ]
  },
  {
   "cell_type": "code",
   "execution_count": 0,
   "metadata": {
    "application/vnd.databricks.v1+cell": {
     "cellMetadata": {
      "byteLimit": 2048000,
      "rowLimit": 10000
     },
     "inputWidgets": {},
     "nuid": "9df8cb82-ca85-4503-be0a-27c97bf37172",
     "showTitle": false,
     "tableResultSettingsMap": {},
     "title": ""
    }
   },
   "outputs": [],
   "source": [
    "# 3. Add new column: TotalPrice = Quantity * UnitPrice\n",
    "transformed_df = filtered_df.withColumn(\"TotalPrice\", col(\"Quantity\") * col(\"UnitPrice\"))\n",
    "print(\"Added TotalPrice column:\")\n",
    "display(transformed_df)"
   ]
  },
  {
   "cell_type": "code",
   "execution_count": 0,
   "metadata": {
    "application/vnd.databricks.v1+cell": {
     "cellMetadata": {
      "byteLimit": 2048000,
      "rowLimit": 10000
     },
     "inputWidgets": {},
     "nuid": "e83008c2-2ac4-42e0-b355-e5e035d8eaa3",
     "showTitle": false,
     "tableResultSettingsMap": {},
     "title": ""
    }
   },
   "outputs": [],
   "source": [
    "from pyspark.sql.functions import col, expr# 4. Drop EmailAddress column (demonstration; email not in selected_df but if needed)\n",
    "\n",
    "# Since we didn't select EmailAddress, skipping drop example\n",
    "\n",
    "# 5. Add a column using expr: TotalWithTax = TotalPrice + TaxAmount\n",
    "# For this, reload original with TaxAmount for demonstration\n",
    "sales_full_df = sales_df.filter(col(\"Quantity\") > 5) \\\n",
    "    .withColumn(\"TotalPrice\", col(\"Quantity\") * col(\"UnitPrice\")) \\\n",
    "    .withColumn(\"TotalWithTax\", expr(\"TotalPrice + TaxAmount\"))\n",
    "\n",
    "print(\"Added TotalWithTax column using expr:\")\n",
    "display(sales_full_df.select(\"CustomerName\", \"Item\", \"Quantity\", \"UnitPrice\", \"TaxAmount\", \"TotalPrice\", \"TotalWithTax\"))\n"
   ]
  }
 ],
 "metadata": {
  "application/vnd.databricks.v1+notebook": {
   "computePreferences": null,
   "dashboards": [],
   "environmentMetadata": {
    "base_environment": "",
    "environment_version": "2"
   },
   "inputWidgetPreferences": null,
   "language": "python",
   "notebookMetadata": {
    "pythonIndentUnit": 4
   },
   "notebookName": "Delta Lake Basic Transformation",
   "widgets": {}
  },
  "language_info": {
   "name": "python"
  }
 },
 "nbformat": 4,
 "nbformat_minor": 0
}